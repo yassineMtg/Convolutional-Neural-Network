{
 "cells": [
  {
   "cell_type": "code",
   "execution_count": 1,
   "id": "transparent-passing",
   "metadata": {},
   "outputs": [],
   "source": [
    "import os\n",
    "import numpy as np\n",
    "import pandas as pd\n",
    "import random\n",
    "import matplotlib.pyplot as plt\n",
    "from tensorflow.keras.models import Sequential\n",
    "from tensorflow.keras.layers import Conv2D, MaxPooling2D, Dense, Flatten\n",
    "from tensorflow.keras.preprocessing.image import load_img, img_to_array"
   ]
  },
  {
   "cell_type": "markdown",
   "id": "radio-router",
   "metadata": {},
   "source": [
    "# Load Dataset"
   ]
  },
  {
   "cell_type": "code",
   "execution_count": 2,
   "id": "f69a33b0-af2f-4d22-b633-a3acaee4b413",
   "metadata": {},
   "outputs": [],
   "source": [
    "# Paths to the dataset\n",
    "base_folder = 'dataset'\n",
    "train_folder = os.path.join(base_folder, 'train')\n",
    "test_folder = os.path.join(base_folder, 'test')\n",
    "train_labels_file = os.path.join(base_folder, 'trainLabels.csv')\n",
    "submission_file = os.path.join(base_folder, 'sampleSubmission.csv')"
   ]
  },
  {
   "cell_type": "code",
   "execution_count": null,
   "id": "bf1b060b-078e-4b1f-9bb5-1b5008ebbfa1",
   "metadata": {},
   "outputs": [],
   "source": []
  },
  {
   "cell_type": "code",
   "execution_count": 5,
   "id": "damaged-kennedy",
   "metadata": {},
   "outputs": [
    {
     "name": "stdout",
     "output_type": "stream",
     "text": [
      "X_train shape: (128, 32, 32, 3), Y_train shape: (128,)\n"
     ]
    }
   ],
   "source": [
    "# Image properties\n",
    "image_size = (32, 32)\n",
    "\n",
    "# Load train labels\n",
    "train_labels_df = pd.read_csv(train_labels_file)\n",
    "train_labels = train_labels_df.set_index('id')['label'].to_dict()  # Create a dictionary {id: label}\n",
    "\n",
    "unique_labels = train_labels_df['label'].unique()\n",
    "label_mapping = {label: idx for idx, label in enumerate(unique_labels)}\n",
    "\n",
    "#print(\"Label Mapping:\", label_mapping)  # Verify the mapping\n",
    "\n",
    "train_labels_df['label'] = train_labels_df['label'].map(label_mapping)\n",
    "train_labels = train_labels_df.set_index('id')['label'].to_dict()  # {id: integer_label}\n",
    "\n",
    "# Debugging: Check the first few labels\n",
    "#print(train_labels_df.head())\n",
    "\n",
    "# Batch generator for training images\n",
    "def train_batch_generator(batch_size):\n",
    "    image_names = os.listdir(train_folder)\n",
    "    while True:\n",
    "        for i in range(0, len(image_names), batch_size):\n",
    "            batch_images = image_names[i:i + batch_size]\n",
    "            X_batch = []\n",
    "            Y_batch = []\n",
    "            for img_name in batch_images:\n",
    "                img_id = os.path.splitext(img_name)[0]\n",
    "                if img_id.isdigit() and int(img_id) in train_labels:\n",
    "                    img_path = os.path.join(train_folder, img_name)\n",
    "                    img = load_img(img_path, target_size=image_size)\n",
    "                    img_array = img_to_array(img)\n",
    "                    X_batch.append(img_array)\n",
    "                    Y_batch.append(train_labels[int(img_id)])  # Integer labels\n",
    "            X_batch = np.array(X_batch) / 255.0  # Normalize images\n",
    "            Y_batch = np.array(Y_batch)  # Keep labels as integers\n",
    "            yield X_batch, Y_batch\n",
    "\n",
    "# Batch generator for testing images\n",
    "def test_batch_generator(batch_size):\n",
    "    test_ids = os.listdir(test_folder)  # List all test image files\n",
    "    while True:\n",
    "        for i in range(0, len(test_ids), batch_size):\n",
    "            batch_images = test_ids[i:i + batch_size]\n",
    "            X_batch = []\n",
    "            for img_name in batch_images:\n",
    "                img_path = os.path.join(test_folder, img_name)\n",
    "                if os.path.exists(img_path):\n",
    "                    img = load_img(img_path, target_size=image_size)\n",
    "                    img_array = img_to_array(img)\n",
    "                    X_batch.append(img_array)\n",
    "            if len(X_batch) > 0:\n",
    "                yield np.array(X_batch) / 255.0  # Normalize images\n",
    "\n",
    "# Example usage of generators\n",
    "batch_size = 128\n",
    "train_gen = train_batch_generator(batch_size)\n",
    "#test_gen = test_batch_generator(batch_size)\n",
    "\n",
    "# Debug the generator\n",
    "train_gen = train_batch_generator(batch_size)\n",
    "X_train, Y_train = next(train_gen)\n",
    "print(f\"X_train shape: {X_train.shape}, Y_train shape: {Y_train.shape}\")\n",
    "#print(f\"First few labels: {Y_train[:10]}\")\n",
    "\n",
    "# Output shapes\n",
    "#print(f'X_train shape: {X_train.shape}')\n",
    "#print(f'Y_train shape: {Y_train.shape}')\n",
    "#print(f'X_test shape: {X_test.shape}')\n"
   ]
  },
  {
   "cell_type": "code",
   "execution_count": 6,
   "id": "corrected-xerox",
   "metadata": {},
   "outputs": [
    {
     "data": {
      "image/png": "[encoded data removed]",
      "text/plain": [
       "<Figure size 640x480 with 1 Axes>"
      ]
     },
     "metadata": {},
     "output_type": "display_data"
    }
   ],
   "source": [
    "idx = random.randint(0, len(X_train))\n",
    "plt.imshow(X_train[idx, :])\n",
    "plt.show()"
   ]
  },
  {
   "cell_type": "markdown",
   "id": "precise-munich",
   "metadata": {},
   "source": [
    "# Model"
   ]
  },
  {
   "cell_type": "code",
   "execution_count": 7,
   "id": "bigger-spain",
   "metadata": {},
   "outputs": [
    {
     "name": "stderr",
     "output_type": "stream",
     "text": [
      "C:\\Users\\y_maa\\miniconda3\\envs\\ai_project4\\lib\\site-packages\\keras\\src\\layers\\convolutional\\base_conv.py:107: UserWarning: Do not pass an `input_shape`/`input_dim` argument to a layer. When using Sequential models, prefer using an `Input(shape)` object as the first layer in the model instead.\n",
      "  super().__init__(activity_regularizer=activity_regularizer, **kwargs)\n"
     ]
    }
   ],
   "source": [
    "model = Sequential([\n",
    "    Conv2D(32, (3, 3), activation='relu', input_shape=(32, 32, 3)),\n",
    "    MaxPooling2D((2, 2)),\n",
    "    Conv2D(32, (3, 3), activation='relu'),\n",
    "    MaxPooling2D((2, 2)),\n",
    "    Flatten(),\n",
    "    Dense(64, activation='relu'),\n",
    "    Dense(len(label_mapping), activation='softmax')  # Output layer for multi-class classification\n",
    "])\n",
    "\n",
    "#from tensorflow.keras.layers import Dropout\n",
    "\n",
    "#model.add(Dense(64, activation='relu'))\n",
    "#model.add(Dropout(0.5))  # Dropout rate of 50%\n",
    "#model.add(Dense(10, activation='softmax'))\n",
    "\n",
    "#from tensorflow.keras.regularizers import l2\n",
    "\n",
    "#model.add(Dense(64, activation='relu', kernel_regularizer=l2(0.01)))\n"
   ]
  },
  {
   "cell_type": "code",
   "execution_count": 9,
   "id": "exclusive-capability",
   "metadata": {},
   "outputs": [],
   "source": [
    "model = Sequential()\n",
    "\n",
    "model.add(Conv2D(32, (3,3), activation = 'relu', input_shape = (32, 32, 3)))\n",
    "model.add(MaxPooling2D((2,2)))\n",
    "\n",
    "model.add(Conv2D(32, (3,3), activation = 'relu'))\n",
    "model.add(MaxPooling2D((2,2)))\n",
    "\n",
    "model.add(Flatten())\n",
    "model.add(Dense(64, activation = 'relu'))\n",
    "model.add(Dense(10, activation = 'softmax'))"
   ]
  },
  {
   "cell_type": "code",
   "execution_count": 10,
   "id": "special-prior",
   "metadata": {},
   "outputs": [
    {
     "name": "stdout",
     "output_type": "stream",
     "text": [
      "Labels in Y_train: [0 3 0 5 9]\n",
      "Labels dtype: int64\n"
     ]
    }
   ],
   "source": [
    "model.compile(loss='sparse_categorical_crossentropy', optimizer='adam', metrics=['accuracy'])\n",
    "X_train, Y_train = next(train_gen)\n",
    "print(f\"Labels in Y_train: {Y_train[:5]}\")  # Should now contain integers\n",
    "print(f\"Labels dtype: {Y_train.dtype}\")  # Ensure labels are int32"
   ]
  },
  {
   "cell_type": "markdown",
   "id": "57527d27-dfa0-438e-891e-ab41302cc0e5",
   "metadata": {},
   "source": [
    "# Train the Model"
   ]
  },
  {
   "cell_type": "code",
   "execution_count": 11,
   "id": "wrapped-volume",
   "metadata": {},
   "outputs": [
    {
     "name": "stdout",
     "output_type": "stream",
     "text": [
      "Epoch 1/5\n",
      "\u001b[1m390/390\u001b[0m \u001b[32m━━━━━━━━━━━━━━━━━━━━\u001b[0m\u001b[37m\u001b[0m \u001b[1m60s\u001b[0m 153ms/step - accuracy: 0.3276 - loss: 1.8433\n",
      "Epoch 2/5\n",
      "\u001b[1m390/390\u001b[0m \u001b[32m━━━━━━━━━━━━━━━━━━━━\u001b[0m\u001b[37m\u001b[0m \u001b[1m8s\u001b[0m 22ms/step - accuracy: 0.5234 - loss: 1.3515\n",
      "Epoch 3/5\n",
      "\u001b[1m390/390\u001b[0m \u001b[32m━━━━━━━━━━━━━━━━━━━━\u001b[0m\u001b[37m\u001b[0m \u001b[1m9s\u001b[0m 22ms/step - accuracy: 0.5729 - loss: 1.2207\n",
      "Epoch 4/5\n",
      "\u001b[1m390/390\u001b[0m \u001b[32m━━━━━━━━━━━━━━━━━━━━\u001b[0m\u001b[37m\u001b[0m \u001b[1m9s\u001b[0m 23ms/step - accuracy: 0.6040 - loss: 1.1386\n",
      "Epoch 5/5\n",
      "\u001b[1m390/390\u001b[0m \u001b[32m━━━━━━━━━━━━━━━━━━━━\u001b[0m\u001b[37m\u001b[0m \u001b[1m9s\u001b[0m 24ms/step - accuracy: 0.6261 - loss: 1.0750 \n"
     ]
    },
    {
     "data": {
      "text/plain": [
       "<keras.src.callbacks.history.History at 0x20f268c0550>"
      ]
     },
     "execution_count": 11,
     "metadata": {},
     "output_type": "execute_result"
    }
   ],
   "source": [
    "# Train the model\n",
    "steps_per_epoch = len(os.listdir(train_folder)) // batch_size\n",
    "model.fit(\n",
    "    train_gen,\n",
    "    steps_per_epoch=steps_per_epoch,\n",
    "    epochs = 5\n",
    ")"
   ]
  },
  {
   "cell_type": "code",
   "execution_count": 9,
   "id": "862788dd-ae44-4485-bac9-ce3f9f6c65c9",
   "metadata": {},
   "outputs": [],
   "source": [
    "# Save Model"
   ]
  },
  {
   "cell_type": "code",
   "execution_count": 12,
   "id": "ce403c75-0cae-45a3-95d8-eff4e3bce444",
   "metadata": {
    "scrolled": true
   },
   "outputs": [
    {
     "name": "stderr",
     "output_type": "stream",
     "text": [
      "WARNING:absl:You are saving your model as an HDF5 file via `model.save()` or `keras.saving.save_model(model)`. This file format is considered legacy. We recommend using instead the native Keras format, e.g. `model.save('my_model.keras')` or `keras.saving.save_model(model, 'my_model.keras')`. \n"
     ]
    }
   ],
   "source": [
    "model.save(\"trained_model.h5\")  # Save to a single file"
   ]
  },
  {
   "cell_type": "code",
   "execution_count": null,
   "id": "c892e873-8a36-4f42-96b2-2900349fa7b5",
   "metadata": {},
   "outputs": [],
   "source": [
    "# Load Model"
   ]
  },
  {
   "cell_type": "code",
   "execution_count": 9,
   "id": "0d2a0d49-f470-450b-817b-dadbbdeac211",
   "metadata": {},
   "outputs": [
    {
     "name": "stderr",
     "output_type": "stream",
     "text": [
      "C:\\Users\\y_maa\\miniconda3\\envs\\ai_project4\\lib\\site-packages\\keras\\src\\saving\\saving_lib.py:757: UserWarning: Skipping variable loading for optimizer 'rmsprop', because it has 10 variables whereas the saved optimizer has 18 variables. \n",
      "  saveable.load_own_variables(weights_store.get(inner_path))\n"
     ]
    }
   ],
   "source": [
    "from tensorflow.keras.models import load_model\n",
    "model = load_model(\"trained_model.h5\")"
   ]
  },
  {
   "cell_type": "code",
   "execution_count": 13,
   "id": "da96886d-eacc-4c6b-a6db-04e40220d078",
   "metadata": {
    "scrolled": true
   },
   "outputs": [
    {
     "data": {
      "text/html": [
       "<pre style=\"white-space:pre;overflow-x:auto;line-height:normal;font-family:Menlo,'DejaVu Sans Mono',consolas,'Courier New',monospace\"><span style=\"font-weight: bold\">Model: \"sequential_2\"</span>\n",
       "</pre>\n"
      ],
      "text/plain": [
       "\u001b[1mModel: \"sequential_2\"\u001b[0m\n"
      ]
     },
     "metadata": {},
     "output_type": "display_data"
    },
    {
     "data": {
      "text/html": [
       "<pre style=\"white-space:pre;overflow-x:auto;line-height:normal;font-family:Menlo,'DejaVu Sans Mono',consolas,'Courier New',monospace\">┏━━━━━━━━━━━━━━━━━━━━━━━━━━━━━━━━━━━━━━┳━━━━━━━━━━━━━━━━━━━━━━━━━━━━━┳━━━━━━━━━━━━━━━━━┓\n",
       "┃<span style=\"font-weight: bold\"> Layer (type)                         </span>┃<span style=\"font-weight: bold\"> Output Shape                </span>┃<span style=\"font-weight: bold\">         Param # </span>┃\n",
       "┡━━━━━━━━━━━━━━━━━━━━━━━━━━━━━━━━━━━━━━╇━━━━━━━━━━━━━━━━━━━━━━━━━━━━━╇━━━━━━━━━━━━━━━━━┩\n",
       "│ conv2d_4 (<span style=\"color: #0087ff; text-decoration-color: #0087ff\">Conv2D</span>)                    │ (<span style=\"color: #00d7ff; text-decoration-color: #00d7ff\">None</span>, <span style=\"color: #00af00; text-decoration-color: #00af00\">30</span>, <span style=\"color: #00af00; text-decoration-color: #00af00\">30</span>, <span style=\"color: #00af00; text-decoration-color: #00af00\">32</span>)          │             <span style=\"color: #00af00; text-decoration-color: #00af00\">896</span> │\n",
       "├──────────────────────────────────────┼─────────────────────────────┼─────────────────┤\n",
       "│ max_pooling2d_4 (<span style=\"color: #0087ff; text-decoration-color: #0087ff\">MaxPooling2D</span>)       │ (<span style=\"color: #00d7ff; text-decoration-color: #00d7ff\">None</span>, <span style=\"color: #00af00; text-decoration-color: #00af00\">15</span>, <span style=\"color: #00af00; text-decoration-color: #00af00\">15</span>, <span style=\"color: #00af00; text-decoration-color: #00af00\">32</span>)          │               <span style=\"color: #00af00; text-decoration-color: #00af00\">0</span> │\n",
       "├──────────────────────────────────────┼─────────────────────────────┼─────────────────┤\n",
       "│ conv2d_5 (<span style=\"color: #0087ff; text-decoration-color: #0087ff\">Conv2D</span>)                    │ (<span style=\"color: #00d7ff; text-decoration-color: #00d7ff\">None</span>, <span style=\"color: #00af00; text-decoration-color: #00af00\">13</span>, <span style=\"color: #00af00; text-decoration-color: #00af00\">13</span>, <span style=\"color: #00af00; text-decoration-color: #00af00\">32</span>)          │           <span style=\"color: #00af00; text-decoration-color: #00af00\">9,248</span> │\n",
       "├──────────────────────────────────────┼─────────────────────────────┼─────────────────┤\n",
       "│ max_pooling2d_5 (<span style=\"color: #0087ff; text-decoration-color: #0087ff\">MaxPooling2D</span>)       │ (<span style=\"color: #00d7ff; text-decoration-color: #00d7ff\">None</span>, <span style=\"color: #00af00; text-decoration-color: #00af00\">6</span>, <span style=\"color: #00af00; text-decoration-color: #00af00\">6</span>, <span style=\"color: #00af00; text-decoration-color: #00af00\">32</span>)            │               <span style=\"color: #00af00; text-decoration-color: #00af00\">0</span> │\n",
       "├──────────────────────────────────────┼─────────────────────────────┼─────────────────┤\n",
       "│ flatten_2 (<span style=\"color: #0087ff; text-decoration-color: #0087ff\">Flatten</span>)                  │ (<span style=\"color: #00d7ff; text-decoration-color: #00d7ff\">None</span>, <span style=\"color: #00af00; text-decoration-color: #00af00\">1152</span>)                │               <span style=\"color: #00af00; text-decoration-color: #00af00\">0</span> │\n",
       "├──────────────────────────────────────┼─────────────────────────────┼─────────────────┤\n",
       "│ dense_4 (<span style=\"color: #0087ff; text-decoration-color: #0087ff\">Dense</span>)                      │ (<span style=\"color: #00d7ff; text-decoration-color: #00d7ff\">None</span>, <span style=\"color: #00af00; text-decoration-color: #00af00\">64</span>)                  │          <span style=\"color: #00af00; text-decoration-color: #00af00\">73,792</span> │\n",
       "├──────────────────────────────────────┼─────────────────────────────┼─────────────────┤\n",
       "│ dense_5 (<span style=\"color: #0087ff; text-decoration-color: #0087ff\">Dense</span>)                      │ (<span style=\"color: #00d7ff; text-decoration-color: #00d7ff\">None</span>, <span style=\"color: #00af00; text-decoration-color: #00af00\">10</span>)                  │             <span style=\"color: #00af00; text-decoration-color: #00af00\">650</span> │\n",
       "└──────────────────────────────────────┴─────────────────────────────┴─────────────────┘\n",
       "</pre>\n"
      ],
      "text/plain": [
       "┏━━━━━━━━━━━━━━━━━━━━━━━━━━━━━━━━━━━━━━┳━━━━━━━━━━━━━━━━━━━━━━━━━━━━━┳━━━━━━━━━━━━━━━━━┓\n",
       "┃\u001b[1m \u001b[0m\u001b[1mLayer (type)                        \u001b[0m\u001b[1m \u001b[0m┃\u001b[1m \u001b[0m\u001b[1mOutput Shape               \u001b[0m\u001b[1m \u001b[0m┃\u001b[1m \u001b[0m\u001b[1m        Param #\u001b[0m\u001b[1m \u001b[0m┃\n",
       "┡━━━━━━━━━━━━━━━━━━━━━━━━━━━━━━━━━━━━━━╇━━━━━━━━━━━━━━━━━━━━━━━━━━━━━╇━━━━━━━━━━━━━━━━━┩\n",
       "│ conv2d_4 (\u001b[38;5;33mConv2D\u001b[0m)                    │ (\u001b[38;5;45mNone\u001b[0m, \u001b[38;5;34m30\u001b[0m, \u001b[38;5;34m30\u001b[0m, \u001b[38;5;34m32\u001b[0m)          │             \u001b[38;5;34m896\u001b[0m │\n",
       "├──────────────────────────────────────┼─────────────────────────────┼─────────────────┤\n",
       "│ max_pooling2d_4 (\u001b[38;5;33mMaxPooling2D\u001b[0m)       │ (\u001b[38;5;45mNone\u001b[0m, \u001b[38;5;34m15\u001b[0m, \u001b[38;5;34m15\u001b[0m, \u001b[38;5;34m32\u001b[0m)          │               \u001b[38;5;34m0\u001b[0m │\n",
       "├──────────────────────────────────────┼─────────────────────────────┼─────────────────┤\n",
       "│ conv2d_5 (\u001b[38;5;33mConv2D\u001b[0m)                    │ (\u001b[38;5;45mNone\u001b[0m, \u001b[38;5;34m13\u001b[0m, \u001b[38;5;34m13\u001b[0m, \u001b[38;5;34m32\u001b[0m)          │           \u001b[38;5;34m9,248\u001b[0m │\n",
       "├──────────────────────────────────────┼─────────────────────────────┼─────────────────┤\n",
       "│ max_pooling2d_5 (\u001b[38;5;33mMaxPooling2D\u001b[0m)       │ (\u001b[38;5;45mNone\u001b[0m, \u001b[38;5;34m6\u001b[0m, \u001b[38;5;34m6\u001b[0m, \u001b[38;5;34m32\u001b[0m)            │               \u001b[38;5;34m0\u001b[0m │\n",
       "├──────────────────────────────────────┼─────────────────────────────┼─────────────────┤\n",
       "│ flatten_2 (\u001b[38;5;33mFlatten\u001b[0m)                  │ (\u001b[38;5;45mNone\u001b[0m, \u001b[38;5;34m1152\u001b[0m)                │               \u001b[38;5;34m0\u001b[0m │\n",
       "├──────────────────────────────────────┼─────────────────────────────┼─────────────────┤\n",
       "│ dense_4 (\u001b[38;5;33mDense\u001b[0m)                      │ (\u001b[38;5;45mNone\u001b[0m, \u001b[38;5;34m64\u001b[0m)                  │          \u001b[38;5;34m73,792\u001b[0m │\n",
       "├──────────────────────────────────────┼─────────────────────────────┼─────────────────┤\n",
       "│ dense_5 (\u001b[38;5;33mDense\u001b[0m)                      │ (\u001b[38;5;45mNone\u001b[0m, \u001b[38;5;34m10\u001b[0m)                  │             \u001b[38;5;34m650\u001b[0m │\n",
       "└──────────────────────────────────────┴─────────────────────────────┴─────────────────┘\n"
      ]
     },
     "metadata": {},
     "output_type": "display_data"
    },
    {
     "data": {
      "text/html": [
       "<pre style=\"white-space:pre;overflow-x:auto;line-height:normal;font-family:Menlo,'DejaVu Sans Mono',consolas,'Courier New',monospace\"><span style=\"font-weight: bold\"> Total params: </span><span style=\"color: #00af00; text-decoration-color: #00af00\">253,760</span> (991.25 KB)\n",
       "</pre>\n"
      ],
      "text/plain": [
       "\u001b[1m Total params: \u001b[0m\u001b[38;5;34m253,760\u001b[0m (991.25 KB)\n"
      ]
     },
     "metadata": {},
     "output_type": "display_data"
    },
    {
     "data": {
      "text/html": [
       "<pre style=\"white-space:pre;overflow-x:auto;line-height:normal;font-family:Menlo,'DejaVu Sans Mono',consolas,'Courier New',monospace\"><span style=\"font-weight: bold\"> Trainable params: </span><span style=\"color: #00af00; text-decoration-color: #00af00\">84,586</span> (330.41 KB)\n",
       "</pre>\n"
      ],
      "text/plain": [
       "\u001b[1m Trainable params: \u001b[0m\u001b[38;5;34m84,586\u001b[0m (330.41 KB)\n"
      ]
     },
     "metadata": {},
     "output_type": "display_data"
    },
    {
     "data": {
      "text/html": [
       "<pre style=\"white-space:pre;overflow-x:auto;line-height:normal;font-family:Menlo,'DejaVu Sans Mono',consolas,'Courier New',monospace\"><span style=\"font-weight: bold\"> Non-trainable params: </span><span style=\"color: #00af00; text-decoration-color: #00af00\">0</span> (0.00 B)\n",
       "</pre>\n"
      ],
      "text/plain": [
       "\u001b[1m Non-trainable params: \u001b[0m\u001b[38;5;34m0\u001b[0m (0.00 B)\n"
      ]
     },
     "metadata": {},
     "output_type": "display_data"
    },
    {
     "data": {
      "text/html": [
       "<pre style=\"white-space:pre;overflow-x:auto;line-height:normal;font-family:Menlo,'DejaVu Sans Mono',consolas,'Courier New',monospace\"><span style=\"font-weight: bold\"> Optimizer params: </span><span style=\"color: #00af00; text-decoration-color: #00af00\">169,174</span> (660.84 KB)\n",
       "</pre>\n"
      ],
      "text/plain": [
       "\u001b[1m Optimizer params: \u001b[0m\u001b[38;5;34m169,174\u001b[0m (660.84 KB)\n"
      ]
     },
     "metadata": {},
     "output_type": "display_data"
    }
   ],
   "source": [
    "model.summary()"
   ]
  },
  {
   "cell_type": "markdown",
   "id": "alternate-bloom",
   "metadata": {},
   "source": [
    "# Making predictions"
   ]
  },
  {
   "cell_type": "code",
   "execution_count": 14,
   "id": "7232d0be-8892-4a87-83fe-85ac93c0aa0c",
   "metadata": {},
   "outputs": [
    {
     "ename": "ValueError",
     "evalue": "When passing a Python generator to a Keras model, the generator must return a tuple, either (input,) or (inputs, targets) or (inputs, targets, sample_weights). Received: [[[[0.5254902  0.45490196 0.30588236]\n   [0.5647059  0.49803922 0.35686275]\n   [0.5686275  0.5019608  0.36078432]\n   ...\n   [0.50980395 0.42745098 0.28235295]\n   [0.50980395 0.43137255 0.3019608 ]\n   [0.49019608 0.41960785 0.29803923]]\n\n  [[0.5568628  0.49019608 0.34117648]\n   [0.57254905 0.5137255  0.37254903]\n   [0.5764706  0.5254902  0.3882353 ]\n   ...\n   [0.54509807 0.44313726 0.28627452]\n   [0.5529412  0.46666667 0.32156864]\n   [0.52156866 0.4392157  0.3137255 ]]\n\n  [[0.56078434 0.5176471  0.34117648]\n   [0.6        0.57254905 0.35686275]\n   [0.5882353  0.57254905 0.3647059 ]\n   ...\n   [0.5568628  0.4627451  0.30588236]\n   [0.5411765  0.45490196 0.3137255 ]\n   [0.5254902  0.4509804  0.32941177]]\n\n  ...\n\n  [[0.56078434 0.5058824  0.49019608]\n   [0.6039216  0.4392157  0.40784314]\n   [0.62352943 0.5058824  0.4745098 ]\n   ...\n   [0.47058824 0.5372549  0.35686275]\n   [0.49803922 0.5294118  0.3529412 ]\n   [0.54509807 0.5764706  0.28235295]]\n\n  [[0.5019608  0.5882353  0.5686275 ]\n   [0.5176471  0.53333336 0.47058824]\n   [0.5058824  0.5921569  0.54509807]\n   ...\n   [0.49803922 0.5176471  0.32941177]\n   [0.5254902  0.56078434 0.24705882]\n   [0.4509804  0.49803922 0.21960784]]\n\n  [[0.32156864 0.5921569  0.5254902 ]\n   [0.28627452 0.50980395 0.39607844]\n   [0.3019608  0.5019608  0.40784314]\n   ...\n   [0.49803922 0.5254902  0.27450982]\n   [0.38431373 0.42352942 0.21176471]\n   [0.25882354 0.3019608  0.20392157]]]\n\n\n [[[0.50980395 0.46666667 0.54509807]\n   [0.5137255  0.46666667 0.54901963]\n   [0.5176471  0.47058824 0.5568628 ]\n   ...\n   [0.54901963 0.4862745  0.5764706 ]\n   [0.54901963 0.48235294 0.57254905]\n   [0.49411765 0.45490196 0.5254902 ]]\n\n  [[0.5647059  0.49019608 0.5882353 ]\n   [0.58431375 0.5058824  0.59607846]\n   [0.6117647  0.5294118  0.6156863 ]\n   ...\n   [0.54901963 0.48235294 0.57254905]\n   [0.54901963 0.48235294 0.5686275 ]\n   [0.5019608  0.45882353 0.5254902 ]]\n\n  [[0.5686275  0.49019608 0.5882353 ]\n   [0.6039216  0.5176471  0.59607846]\n   [0.68235296 0.5803922  0.6392157 ]\n   ...\n   [0.5529412  0.4862745  0.5686275 ]\n   [0.5529412  0.48235294 0.5686275 ]\n   [0.50980395 0.45882353 0.5254902 ]]\n\n  ...\n\n  [[0.32156864 0.3254902  0.32156864]\n   [0.34509805 0.30588236 0.34901962]\n   [0.2627451  0.21568628 0.2901961 ]\n   ...\n   [0.34117648 0.3019608  0.2901961 ]\n   [0.34509805 0.3019608  0.29803923]\n   [0.34901962 0.30588236 0.3019608 ]]\n\n  [[0.2784314  0.2901961  0.28627452]\n   [0.31764707 0.28627452 0.32156864]\n   [0.26666668 0.21176471 0.28627452]\n   ...\n   [0.35686275 0.32941177 0.32941177]\n   [0.36078432 0.32941177 0.34117648]\n   [0.36078432 0.32941177 0.3372549 ]]\n\n  [[0.2509804  0.26666668 0.2627451 ]\n   [0.30588236 0.2784314  0.30980393]\n   [0.26666668 0.21960784 0.2901961 ]\n   ...\n   [0.3137255  0.30980393 0.30588236]\n   [0.30980393 0.30588236 0.30980393]\n   [0.30588236 0.3019608  0.3019608 ]]]\n\n\n [[[0.5019608  0.5411765  0.30980393]\n   [0.42745098 0.47843137 0.2627451 ]\n   [0.40784314 0.48235294 0.25882354]\n   ...\n   [0.49411765 0.5294118  0.29803923]\n   [0.5372549  0.56078434 0.3372549 ]\n   [0.5176471  0.53333336 0.32156864]]\n\n  [[0.49019608 0.5411765  0.27450982]\n   [0.4627451  0.5058824  0.23921569]\n   [0.44313726 0.5137255  0.27058825]\n   ...\n   [0.50980395 0.5176471  0.29411766]\n   [0.5529412  0.5411765  0.32941177]\n   [0.6039216  0.5764706  0.36862746]]\n\n  [[0.42352942 0.5058824  0.20392157]\n   [0.47843137 0.5294118  0.24705882]\n   [0.44705883 0.5058824  0.27058825]\n   ...\n   [0.54509807 0.5411765  0.32941177]\n   [0.59607846 0.56078434 0.3647059 ]\n   [0.627451   0.5921569  0.38039216]]\n\n  ...\n\n  [[0.3882353  0.45882353 0.23137255]\n   [0.36862746 0.43529412 0.21176471]\n   [0.47058824 0.5137255  0.27450982]\n   ...\n   [0.46666667 0.5176471  0.28235295]\n   [0.49803922 0.5294118  0.2901961 ]\n   [0.53333336 0.54509807 0.3254902 ]]\n\n  [[0.4392157  0.5019608  0.2627451 ]\n   [0.43529412 0.50980395 0.2509804 ]\n   [0.5294118  0.5882353  0.2901961 ]\n   ...\n   [0.49803922 0.5137255  0.2901961 ]\n   [0.4862745  0.49411765 0.3019608 ]\n   [0.49411765 0.4862745  0.28627452]]\n\n  [[0.5137255  0.5882353  0.3137255 ]\n   [0.4509804  0.5411765  0.2627451 ]\n   [0.45490196 0.5411765  0.22745098]\n   ...\n   [0.5411765  0.53333336 0.3137255 ]\n   [0.4862745  0.4745098  0.2901961 ]\n   [0.45490196 0.4745098  0.2627451 ]]]\n\n\n ...\n\n\n [[[0.19215687 0.14901961 0.1254902 ]\n   [0.20392157 0.16078432 0.12156863]\n   [0.29411766 0.23529412 0.14901961]\n   ...\n   [0.60784316 0.4509804  0.5058824 ]\n   [0.62352943 0.46666667 0.52156866]\n   [0.6392157  0.5137255  0.5529412 ]]\n\n  [[0.2        0.16862746 0.13333334]\n   [0.20392157 0.18039216 0.13725491]\n   [0.28235295 0.24705882 0.16862746]\n   ...\n   [0.6039216  0.45882353 0.4862745 ]\n   [0.61960787 0.47843137 0.5058824 ]\n   [0.62352943 0.5058824  0.5176471 ]]\n\n  [[0.19215687 0.16862746 0.13333334]\n   [0.21176471 0.2        0.17254902]\n   [0.30588236 0.2784314  0.24313726]\n   ...\n   [0.5803922  0.47058824 0.45882353]\n   [0.5686275  0.45490196 0.44705883]\n   [0.50980395 0.41568628 0.39215687]]\n\n  ...\n\n  [[0.4627451  0.3647059  0.21960784]\n   [0.50980395 0.38039216 0.2901961 ]\n   [0.5372549  0.3882353  0.28235295]\n   ...\n   [0.38431373 0.28627452 0.23921569]\n   [0.34901962 0.27058825 0.2       ]\n   [0.30980393 0.24705882 0.17254902]]\n\n  [[0.45882353 0.38039216 0.22745098]\n   [0.49803922 0.38431373 0.28627452]\n   [0.54509807 0.4117647  0.29411766]\n   ...\n   [0.24313726 0.19215687 0.15686275]\n   [0.21568628 0.19607843 0.12941177]\n   [0.1764706  0.16470589 0.10588235]]\n\n  [[0.43529412 0.3764706  0.22352941]\n   [0.49019608 0.4        0.28235295]\n   [0.5294118  0.41960785 0.27450982]\n   ...\n   [0.23921569 0.20784314 0.17254902]\n   [0.21960784 0.23529412 0.16470589]\n   [0.16078432 0.17254902 0.11764706]]]\n\n\n [[[0.5921569  0.5254902  0.41568628]\n   [0.61960787 0.5568628  0.5254902 ]\n   [0.67058825 0.45882353 0.49019608]\n   ...\n   [0.6627451  0.47058824 0.4117647 ]\n   [0.67058825 0.5803922  0.43529412]\n   [0.61960787 0.49411765 0.40392157]]\n\n  [[0.69411767 0.41568628 0.40392157]\n   [0.6392157  0.54901963 0.5058824 ]\n   [0.6392157  0.52156866 0.3764706 ]\n   ...\n   [0.62352943 0.44313726 0.36862746]\n   [0.6784314  0.52156866 0.44313726]\n   [0.56078434 0.5058824  0.47843137]]\n\n  [[0.58431375 0.46666667 0.4509804 ]\n   [0.60784316 0.5176471  0.49019608]\n   [0.7019608  0.49411765 0.5294118 ]\n   ...\n   [0.72156864 0.5254902  0.44705883]\n   [0.70980394 0.5764706  0.43529412]\n   [0.59607846 0.5137255  0.45490196]]\n\n  ...\n\n  [[0.64705884 0.7647059  0.8       ]\n   [0.6627451  0.7176471  0.83137256]\n   [0.6745098  0.7019608  0.85490197]\n   ...\n   [0.4862745  0.49803922 0.5019608 ]\n   [0.49019608 0.47058824 0.44313726]\n   [0.45882353 0.4        0.41568628]]\n\n  [[0.6627451  0.7490196  0.78039217]\n   [0.69411767 0.7254902  0.7921569 ]\n   [0.68235296 0.7411765  0.7607843 ]\n   ...\n   [0.6        0.6666667  0.7529412 ]\n   [0.6392157  0.59607846 0.6666667 ]\n   [0.5803922  0.6039216  0.6666667 ]]\n\n  [[0.70980394 0.7058824  0.81960785]\n   [0.77254903 0.70980394 0.81960785]\n   [0.7137255  0.74509805 0.78431374]\n   ...\n   [0.6392157  0.7372549  0.7372549 ]\n   [0.65882355 0.6666667  0.7529412 ]\n   [0.654902   0.6862745  0.81960785]]]\n\n\n [[[0.14117648 0.14117648 0.15294118]\n   [0.6627451  0.70980394 0.87058824]\n   [0.7058824  0.6784314  0.88235295]\n   ...\n   [0.24705882 0.24705882 0.27450982]\n   [0.20392157 0.22745098 0.2509804 ]\n   [0.14117648 0.16078432 0.2       ]]\n\n  [[0.18039216 0.18039216 0.2       ]\n   [0.73333335 0.7529412  0.88235295]\n   [0.77254903 0.8117647  0.92156863]\n   ...\n   [0.6431373  0.67058825 0.7921569 ]\n   [0.6039216  0.7137255  0.8392157 ]\n   [0.38431373 0.52156866 0.80784315]]\n\n  [[0.21568628 0.22745098 0.2509804 ]\n   [0.7137255  0.77254903 0.88235295]\n   [0.7176471  0.7529412  0.84313726]\n   ...\n   [0.60784316 0.6784314  0.8235294 ]\n   [0.5568628  0.68235296 0.79607844]\n   [0.36862746 0.5647059  0.80784315]]\n\n  ...\n\n  [[0.49019608 0.41568628 0.3882353 ]\n   [0.47843137 0.48235294 0.5137255 ]\n   [0.46666667 0.5176471  0.5803922 ]\n   ...\n   [0.15294118 0.1764706  0.12156863]\n   [0.24705882 0.27450982 0.1882353 ]\n   [0.12156863 0.12941177 0.09803922]]\n\n  [[0.47058824 0.41568628 0.38039216]\n   [0.47058824 0.43137255 0.44313726]\n   [0.46666667 0.47843137 0.49803922]\n   ...\n   [0.14117648 0.14901961 0.09803922]\n   [0.21176471 0.22745098 0.10980392]\n   [0.09803922 0.10196079 0.0627451 ]]\n\n  [[0.12941177 0.12156863 0.10980392]\n   [0.14901961 0.14117648 0.13333334]\n   [0.16862746 0.16862746 0.16470589]\n   ...\n   [0.14509805 0.14509805 0.09803922]\n   [0.26666668 0.25490198 0.14117648]\n   [0.09803922 0.09411765 0.06666667]]]]",
     "output_type": "error",
     "traceback": [
      "\u001b[1;31m---------------------------------------------------------------------------\u001b[0m",
      "\u001b[1;31mValueError\u001b[0m                                Traceback (most recent call last)",
      "Cell \u001b[1;32mIn[14], line 7\u001b[0m\n\u001b[0;32m      4\u001b[0m test_gen \u001b[38;5;241m=\u001b[39m test_batch_generator(batch_size)\n\u001b[0;32m      6\u001b[0m \u001b[38;5;66;03m# Predict the labels for the test set\u001b[39;00m\n\u001b[1;32m----> 7\u001b[0m predictions \u001b[38;5;241m=\u001b[39m \u001b[43mmodel\u001b[49m\u001b[38;5;241;43m.\u001b[39;49m\u001b[43mpredict\u001b[49m\u001b[43m(\u001b[49m\u001b[43mtest_gen\u001b[49m\u001b[43m,\u001b[49m\u001b[43m \u001b[49m\u001b[43msteps\u001b[49m\u001b[38;5;241;43m=\u001b[39;49m\u001b[43mtest_steps\u001b[49m\u001b[43m)\u001b[49m\n\u001b[0;32m      9\u001b[0m \u001b[38;5;66;03m# Map predictions to class indices\u001b[39;00m\n\u001b[0;32m     10\u001b[0m predicted_classes \u001b[38;5;241m=\u001b[39m np\u001b[38;5;241m.\u001b[39margmax(predictions, axis\u001b[38;5;241m=\u001b[39m\u001b[38;5;241m1\u001b[39m)  \u001b[38;5;66;03m# Convert probabilities to class indices\u001b[39;00m\n",
      "File \u001b[1;32m~\\miniconda3\\envs\\ai_project4\\lib\\site-packages\\keras\\src\\utils\\traceback_utils.py:122\u001b[0m, in \u001b[0;36mfilter_traceback.<locals>.error_handler\u001b[1;34m(*args, **kwargs)\u001b[0m\n\u001b[0;32m    119\u001b[0m     filtered_tb \u001b[38;5;241m=\u001b[39m _process_traceback_frames(e\u001b[38;5;241m.\u001b[39m__traceback__)\n\u001b[0;32m    120\u001b[0m     \u001b[38;5;66;03m# To get the full stack trace, call:\u001b[39;00m\n\u001b[0;32m    121\u001b[0m     \u001b[38;5;66;03m# `keras.config.disable_traceback_filtering()`\u001b[39;00m\n\u001b[1;32m--> 122\u001b[0m     \u001b[38;5;28;01mraise\u001b[39;00m e\u001b[38;5;241m.\u001b[39mwith_traceback(filtered_tb) \u001b[38;5;28;01mfrom\u001b[39;00m \u001b[38;5;28;01mNone\u001b[39;00m\n\u001b[0;32m    123\u001b[0m \u001b[38;5;28;01mfinally\u001b[39;00m:\n\u001b[0;32m    124\u001b[0m     \u001b[38;5;28;01mdel\u001b[39;00m filtered_tb\n",
      "File \u001b[1;32m~\\miniconda3\\envs\\ai_project4\\lib\\site-packages\\keras\\src\\trainers\\data_adapters\\generator_data_adapter.py:17\u001b[0m, in \u001b[0;36mGeneratorDataAdapter.__init__\u001b[1;34m(self, generator)\u001b[0m\n\u001b[0;32m     15\u001b[0m \u001b[38;5;28mself\u001b[39m\u001b[38;5;241m.\u001b[39m_output_signature \u001b[38;5;241m=\u001b[39m \u001b[38;5;28;01mNone\u001b[39;00m\n\u001b[0;32m     16\u001b[0m \u001b[38;5;28;01mif\u001b[39;00m \u001b[38;5;129;01mnot\u001b[39;00m \u001b[38;5;28misinstance\u001b[39m(first_batches[\u001b[38;5;241m0\u001b[39m], \u001b[38;5;28mtuple\u001b[39m):\n\u001b[1;32m---> 17\u001b[0m     \u001b[38;5;28;01mraise\u001b[39;00m \u001b[38;5;167;01mValueError\u001b[39;00m(\n\u001b[0;32m     18\u001b[0m         \u001b[38;5;124m\"\u001b[39m\u001b[38;5;124mWhen passing a Python generator to a Keras model, \u001b[39m\u001b[38;5;124m\"\u001b[39m\n\u001b[0;32m     19\u001b[0m         \u001b[38;5;124m\"\u001b[39m\u001b[38;5;124mthe generator must return a tuple, either \u001b[39m\u001b[38;5;124m\"\u001b[39m\n\u001b[0;32m     20\u001b[0m         \u001b[38;5;124m\"\u001b[39m\u001b[38;5;124m(input,) or (inputs, targets) or \u001b[39m\u001b[38;5;124m\"\u001b[39m\n\u001b[0;32m     21\u001b[0m         \u001b[38;5;124m\"\u001b[39m\u001b[38;5;124m(inputs, targets, sample_weights). \u001b[39m\u001b[38;5;124m\"\u001b[39m\n\u001b[0;32m     22\u001b[0m         \u001b[38;5;124mf\u001b[39m\u001b[38;5;124m\"\u001b[39m\u001b[38;5;124mReceived: \u001b[39m\u001b[38;5;132;01m{\u001b[39;00mfirst_batches[\u001b[38;5;241m0\u001b[39m]\u001b[38;5;132;01m}\u001b[39;00m\u001b[38;5;124m\"\u001b[39m\n\u001b[0;32m     23\u001b[0m     )\n",
      "\u001b[1;31mValueError\u001b[0m: When passing a Python generator to a Keras model, the generator must return a tuple, either (input,) or (inputs, targets) or (inputs, targets, sample_weights). Received: [[[[0.5254902  0.45490196 0.30588236]\n   [0.5647059  0.49803922 0.35686275]\n   [0.5686275  0.5019608  0.36078432]\n   ...\n   [0.50980395 0.42745098 0.28235295]\n   [0.50980395 0.43137255 0.3019608 ]\n   [0.49019608 0.41960785 0.29803923]]\n\n  [[0.5568628  0.49019608 0.34117648]\n   [0.57254905 0.5137255  0.37254903]\n   [0.5764706  0.5254902  0.3882353 ]\n   ...\n   [0.54509807 0.44313726 0.28627452]\n   [0.5529412  0.46666667 0.32156864]\n   [0.52156866 0.4392157  0.3137255 ]]\n\n  [[0.56078434 0.5176471  0.34117648]\n   [0.6        0.57254905 0.35686275]\n   [0.5882353  0.57254905 0.3647059 ]\n   ...\n   [0.5568628  0.4627451  0.30588236]\n   [0.5411765  0.45490196 0.3137255 ]\n   [0.5254902  0.4509804  0.32941177]]\n\n  ...\n\n  [[0.56078434 0.5058824  0.49019608]\n   [0.6039216  0.4392157  0.40784314]\n   [0.62352943 0.5058824  0.4745098 ]\n   ...\n   [0.47058824 0.5372549  0.35686275]\n   [0.49803922 0.5294118  0.3529412 ]\n   [0.54509807 0.5764706  0.28235295]]\n\n  [[0.5019608  0.5882353  0.5686275 ]\n   [0.5176471  0.53333336 0.47058824]\n   [0.5058824  0.5921569  0.54509807]\n   ...\n   [0.49803922 0.5176471  0.32941177]\n   [0.5254902  0.56078434 0.24705882]\n   [0.4509804  0.49803922 0.21960784]]\n\n  [[0.32156864 0.5921569  0.5254902 ]\n   [0.28627452 0.50980395 0.39607844]\n   [0.3019608  0.5019608  0.40784314]\n   ...\n   [0.49803922 0.5254902  0.27450982]\n   [0.38431373 0.42352942 0.21176471]\n   [0.25882354 0.3019608  0.20392157]]]\n\n\n [[[0.50980395 0.46666667 0.54509807]\n   [0.5137255  0.46666667 0.54901963]\n   [0.5176471  0.47058824 0.5568628 ]\n   ...\n   [0.54901963 0.4862745  0.5764706 ]\n   [0.54901963 0.48235294 0.57254905]\n   [0.49411765 0.45490196 0.5254902 ]]\n\n  [[0.5647059  0.49019608 0.5882353 ]\n   [0.58431375 0.5058824  0.59607846]\n   [0.6117647  0.5294118  0.6156863 ]\n   ...\n   [0.54901963 0.48235294 0.57254905]\n   [0.54901963 0.48235294 0.5686275 ]\n   [0.5019608  0.45882353 0.5254902 ]]\n\n  [[0.5686275  0.49019608 0.5882353 ]\n   [0.6039216  0.5176471  0.59607846]\n   [0.68235296 0.5803922  0.6392157 ]\n   ...\n   [0.5529412  0.4862745  0.5686275 ]\n   [0.5529412  0.48235294 0.5686275 ]\n   [0.50980395 0.45882353 0.5254902 ]]\n\n  ...\n\n  [[0.32156864 0.3254902  0.32156864]\n   [0.34509805 0.30588236 0.34901962]\n   [0.2627451  0.21568628 0.2901961 ]\n   ...\n   [0.34117648 0.3019608  0.2901961 ]\n   [0.34509805 0.3019608  0.29803923]\n   [0.34901962 0.30588236 0.3019608 ]]\n\n  [[0.2784314  0.2901961  0.28627452]\n   [0.31764707 0.28627452 0.32156864]\n   [0.26666668 0.21176471 0.28627452]\n   ...\n   [0.35686275 0.32941177 0.32941177]\n   [0.36078432 0.32941177 0.34117648]\n   [0.36078432 0.32941177 0.3372549 ]]\n\n  [[0.2509804  0.26666668 0.2627451 ]\n   [0.30588236 0.2784314  0.30980393]\n   [0.26666668 0.21960784 0.2901961 ]\n   ...\n   [0.3137255  0.30980393 0.30588236]\n   [0.30980393 0.30588236 0.30980393]\n   [0.30588236 0.3019608  0.3019608 ]]]\n\n\n [[[0.5019608  0.5411765  0.30980393]\n   [0.42745098 0.47843137 0.2627451 ]\n   [0.40784314 0.48235294 0.25882354]\n   ...\n   [0.49411765 0.5294118  0.29803923]\n   [0.5372549  0.56078434 0.3372549 ]\n   [0.5176471  0.53333336 0.32156864]]\n\n  [[0.49019608 0.5411765  0.27450982]\n   [0.4627451  0.5058824  0.23921569]\n   [0.44313726 0.5137255  0.27058825]\n   ...\n   [0.50980395 0.5176471  0.29411766]\n   [0.5529412  0.5411765  0.32941177]\n   [0.6039216  0.5764706  0.36862746]]\n\n  [[0.42352942 0.5058824  0.20392157]\n   [0.47843137 0.5294118  0.24705882]\n   [0.44705883 0.5058824  0.27058825]\n   ...\n   [0.54509807 0.5411765  0.32941177]\n   [0.59607846 0.56078434 0.3647059 ]\n   [0.627451   0.5921569  0.38039216]]\n\n  ...\n\n  [[0.3882353  0.45882353 0.23137255]\n   [0.36862746 0.43529412 0.21176471]\n   [0.47058824 0.5137255  0.27450982]\n   ...\n   [0.46666667 0.5176471  0.28235295]\n   [0.49803922 0.5294118  0.2901961 ]\n   [0.53333336 0.54509807 0.3254902 ]]\n\n  [[0.4392157  0.5019608  0.2627451 ]\n   [0.43529412 0.50980395 0.2509804 ]\n   [0.5294118  0.5882353  0.2901961 ]\n   ...\n   [0.49803922 0.5137255  0.2901961 ]\n   [0.4862745  0.49411765 0.3019608 ]\n   [0.49411765 0.4862745  0.28627452]]\n\n  [[0.5137255  0.5882353  0.3137255 ]\n   [0.4509804  0.5411765  0.2627451 ]\n   [0.45490196 0.5411765  0.22745098]\n   ...\n   [0.5411765  0.53333336 0.3137255 ]\n   [0.4862745  0.4745098  0.2901961 ]\n   [0.45490196 0.4745098  0.2627451 ]]]\n\n\n ...\n\n\n [[[0.19215687 0.14901961 0.1254902 ]\n   [0.20392157 0.16078432 0.12156863]\n   [0.29411766 0.23529412 0.14901961]\n   ...\n   [0.60784316 0.4509804  0.5058824 ]\n   [0.62352943 0.46666667 0.52156866]\n   [0.6392157  0.5137255  0.5529412 ]]\n\n  [[0.2        0.16862746 0.13333334]\n   [0.20392157 0.18039216 0.13725491]\n   [0.28235295 0.24705882 0.16862746]\n   ...\n   [0.6039216  0.45882353 0.4862745 ]\n   [0.61960787 0.47843137 0.5058824 ]\n   [0.62352943 0.5058824  0.5176471 ]]\n\n  [[0.19215687 0.16862746 0.13333334]\n   [0.21176471 0.2        0.17254902]\n   [0.30588236 0.2784314  0.24313726]\n   ...\n   [0.5803922  0.47058824 0.45882353]\n   [0.5686275  0.45490196 0.44705883]\n   [0.50980395 0.41568628 0.39215687]]\n\n  ...\n\n  [[0.4627451  0.3647059  0.21960784]\n   [0.50980395 0.38039216 0.2901961 ]\n   [0.5372549  0.3882353  0.28235295]\n   ...\n   [0.38431373 0.28627452 0.23921569]\n   [0.34901962 0.27058825 0.2       ]\n   [0.30980393 0.24705882 0.17254902]]\n\n  [[0.45882353 0.38039216 0.22745098]\n   [0.49803922 0.38431373 0.28627452]\n   [0.54509807 0.4117647  0.29411766]\n   ...\n   [0.24313726 0.19215687 0.15686275]\n   [0.21568628 0.19607843 0.12941177]\n   [0.1764706  0.16470589 0.10588235]]\n\n  [[0.43529412 0.3764706  0.22352941]\n   [0.49019608 0.4        0.28235295]\n   [0.5294118  0.41960785 0.27450982]\n   ...\n   [0.23921569 0.20784314 0.17254902]\n   [0.21960784 0.23529412 0.16470589]\n   [0.16078432 0.17254902 0.11764706]]]\n\n\n [[[0.5921569  0.5254902  0.41568628]\n   [0.61960787 0.5568628  0.5254902 ]\n   [0.67058825 0.45882353 0.49019608]\n   ...\n   [0.6627451  0.47058824 0.4117647 ]\n   [0.67058825 0.5803922  0.43529412]\n   [0.61960787 0.49411765 0.40392157]]\n\n  [[0.69411767 0.41568628 0.40392157]\n   [0.6392157  0.54901963 0.5058824 ]\n   [0.6392157  0.52156866 0.3764706 ]\n   ...\n   [0.62352943 0.44313726 0.36862746]\n   [0.6784314  0.52156866 0.44313726]\n   [0.56078434 0.5058824  0.47843137]]\n\n  [[0.58431375 0.46666667 0.4509804 ]\n   [0.60784316 0.5176471  0.49019608]\n   [0.7019608  0.49411765 0.5294118 ]\n   ...\n   [0.72156864 0.5254902  0.44705883]\n   [0.70980394 0.5764706  0.43529412]\n   [0.59607846 0.5137255  0.45490196]]\n\n  ...\n\n  [[0.64705884 0.7647059  0.8       ]\n   [0.6627451  0.7176471  0.83137256]\n   [0.6745098  0.7019608  0.85490197]\n   ...\n   [0.4862745  0.49803922 0.5019608 ]\n   [0.49019608 0.47058824 0.44313726]\n   [0.45882353 0.4        0.41568628]]\n\n  [[0.6627451  0.7490196  0.78039217]\n   [0.69411767 0.7254902  0.7921569 ]\n   [0.68235296 0.7411765  0.7607843 ]\n   ...\n   [0.6        0.6666667  0.7529412 ]\n   [0.6392157  0.59607846 0.6666667 ]\n   [0.5803922  0.6039216  0.6666667 ]]\n\n  [[0.70980394 0.7058824  0.81960785]\n   [0.77254903 0.70980394 0.81960785]\n   [0.7137255  0.74509805 0.78431374]\n   ...\n   [0.6392157  0.7372549  0.7372549 ]\n   [0.65882355 0.6666667  0.7529412 ]\n   [0.654902   0.6862745  0.81960785]]]\n\n\n [[[0.14117648 0.14117648 0.15294118]\n   [0.6627451  0.70980394 0.87058824]\n   [0.7058824  0.6784314  0.88235295]\n   ...\n   [0.24705882 0.24705882 0.27450982]\n   [0.20392157 0.22745098 0.2509804 ]\n   [0.14117648 0.16078432 0.2       ]]\n\n  [[0.18039216 0.18039216 0.2       ]\n   [0.73333335 0.7529412  0.88235295]\n   [0.77254903 0.8117647  0.92156863]\n   ...\n   [0.6431373  0.67058825 0.7921569 ]\n   [0.6039216  0.7137255  0.8392157 ]\n   [0.38431373 0.52156866 0.80784315]]\n\n  [[0.21568628 0.22745098 0.2509804 ]\n   [0.7137255  0.77254903 0.88235295]\n   [0.7176471  0.7529412  0.84313726]\n   ...\n   [0.60784316 0.6784314  0.8235294 ]\n   [0.5568628  0.68235296 0.79607844]\n   [0.36862746 0.5647059  0.80784315]]\n\n  ...\n\n  [[0.49019608 0.41568628 0.3882353 ]\n   [0.47843137 0.48235294 0.5137255 ]\n   [0.46666667 0.5176471  0.5803922 ]\n   ...\n   [0.15294118 0.1764706  0.12156863]\n   [0.24705882 0.27450982 0.1882353 ]\n   [0.12156863 0.12941177 0.09803922]]\n\n  [[0.47058824 0.41568628 0.38039216]\n   [0.47058824 0.43137255 0.44313726]\n   [0.46666667 0.47843137 0.49803922]\n   ...\n   [0.14117648 0.14901961 0.09803922]\n   [0.21176471 0.22745098 0.10980392]\n   [0.09803922 0.10196079 0.0627451 ]]\n\n  [[0.12941177 0.12156863 0.10980392]\n   [0.14901961 0.14117648 0.13333334]\n   [0.16862746 0.16862746 0.16470589]\n   ...\n   [0.14509805 0.14509805 0.09803922]\n   [0.26666668 0.25490198 0.14117648]\n   [0.09803922 0.09411765 0.06666667]]]]"
     ]
    }
   ],
   "source": [
    "# Initialize test generator and steps\n",
    "batch_size = 128\n",
    "test_steps = len(os.listdir(test_folder)) // batch_size\n",
    "test_gen = test_batch_generator(batch_size)\n",
    "\n",
    "# Predict the labels for the test set\n",
    "predictions = model.predict(test_gen, steps=test_steps)\n",
    "\n",
    "# Map predictions to class indices\n",
    "predicted_classes = np.argmax(predictions, axis=1)  # Convert probabilities to class indices\n",
    "\n",
    "\n",
    "# Reverse the label mapping\n",
    "reverse_mapping = {v: k for k, v in label_mapping.items()}\n",
    "\n",
    "# Convert predicted classes to labels\n",
    "predicted_labels = [reverse_mapping[idx] for idx in predicted_classes]\n"
   ]
  },
  {
   "cell_type": "code",
   "execution_count": 15,
   "id": "48af81b3-06f2-45f4-a14c-d4204f6aea9b",
   "metadata": {},
   "outputs": [
    {
     "ename": "NameError",
     "evalue": "name 'predicted_labels' is not defined",
     "output_type": "error",
     "traceback": [
      "\u001b[1;31m---------------------------------------------------------------------------\u001b[0m",
      "\u001b[1;31mNameError\u001b[0m                                 Traceback (most recent call last)",
      "Cell \u001b[1;32mIn[15], line 7\u001b[0m\n\u001b[0;32m      5\u001b[0m \u001b[38;5;28;01mfor\u001b[39;00m i \u001b[38;5;129;01min\u001b[39;00m \u001b[38;5;28mrange\u001b[39m(\u001b[38;5;241m5\u001b[39m):\n\u001b[0;32m      6\u001b[0m     plt\u001b[38;5;241m.\u001b[39mimshow(X_test[i])\n\u001b[1;32m----> 7\u001b[0m     plt\u001b[38;5;241m.\u001b[39mtitle(\u001b[38;5;124mf\u001b[39m\u001b[38;5;124m\"\u001b[39m\u001b[38;5;124mPredicted Label: \u001b[39m\u001b[38;5;132;01m{\u001b[39;00mpredicted_labels[i]\u001b[38;5;132;01m}\u001b[39;00m\u001b[38;5;124m\"\u001b[39m)\n\u001b[0;32m      8\u001b[0m     plt\u001b[38;5;241m.\u001b[39maxis(\u001b[38;5;124m\"\u001b[39m\u001b[38;5;124moff\u001b[39m\u001b[38;5;124m\"\u001b[39m)\n\u001b[0;32m      9\u001b[0m     plt\u001b[38;5;241m.\u001b[39mshow()\n",
      "\u001b[1;31mNameError\u001b[0m: name 'predicted_labels' is not defined"
     ]
    },
    {
     "data": {
      "image/png": "[encoded data removed]",
      "text/plain": [
       "<Figure size 640x480 with 1 Axes>"
      ]
     },
     "metadata": {},
     "output_type": "display_data"
    }
   ],
   "source": [
    "# Fetch a batch of test images\n",
    "X_test = next(test_batch_generator(batch_size))\n",
    "\n",
    "# Visualize a few test images with their predicted labels\n",
    "for i in range(5):\n",
    "    plt.imshow(X_test[i])\n",
    "    plt.title(f\"Predicted Label: {predicted_labels[i]}\")\n",
    "    plt.axis(\"off\")\n",
    "    plt.show()\n"
   ]
  },
  {
   "cell_type": "code",
   "execution_count": null,
   "id": "fa40e265-061c-4ea3-9abf-68c61d3724a5",
   "metadata": {},
   "outputs": [],
   "source": []
  }
 ],
 "metadata": {
  "kernelspec": {
   "display_name": "Python 3 (ipykernel)",
   "language": "python",
   "name": "python3"
  },
  "language_info": {
   "codemirror_mode": {
    "name": "ipython",
    "version": 3
   },
   "file_extension": ".py",
   "mimetype": "text/x-python",
   "name": "python",
   "nbconvert_exporter": "python",
   "pygments_lexer": "ipython3",
   "version": "3.9.20"
  }
 },
 "nbformat": 4,
 "nbformat_minor": 5
}
